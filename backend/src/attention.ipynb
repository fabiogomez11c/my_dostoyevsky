{
 "cells": [
  {
   "cell_type": "code",
   "execution_count": 1,
   "metadata": {},
   "outputs": [],
   "source": [
    "import torch\n",
    "import torch.nn as nn\n",
    "import torch.nn.functional as F"
   ]
  },
  {
   "cell_type": "code",
   "execution_count": 2,
   "metadata": {},
   "outputs": [
    {
     "data": {
      "text/plain": [
       "torch.Size([4, 8, 16])"
      ]
     },
     "execution_count": 2,
     "metadata": {},
     "output_type": "execute_result"
    }
   ],
   "source": [
    "B, T, C = 4, 8, 32\n",
    "x = torch.randn(B, T, C)\n",
    "\n",
    "head_size = 16\n",
    "key = nn.Linear(C, head_size, bias=False)\n",
    "query = nn.Linear(C, head_size, bias=False)\n",
    "value = nn.Linear(C, head_size, bias=False)\n",
    "k = key(x)\n",
    "q = query(x)\n",
    "wei = q @ k.transpose(-2, -1)  # (B, T, 16) @ (B, 16, T) = (B, T, T)\n",
    "\n",
    "tril = torch.tril(torch.ones(T, T))\n",
    "wei = wei.masked_fill(tril == 0, float(\"-inf\"))\n",
    "wei = F.softmax(wei, dim=-1)\n",
    "\n",
    "v = value(x)\n",
    "out = wei @ v\n",
    "\n",
    "out.shape  # (4, 8, 16)"
   ]
  },
  {
   "cell_type": "code",
   "execution_count": 3,
   "metadata": {},
   "outputs": [],
   "source": [
    "k = key(x)\n",
    "q = query(x)\n",
    "wei = q @ k.transpose(-2, -1)  # (B, T, 16) @ (B, 16, T) = (B, T, T)"
   ]
  },
  {
   "cell_type": "code",
   "execution_count": 4,
   "metadata": {},
   "outputs": [
    {
     "data": {
      "text/plain": [
       "tensor(0.3581, grad_fn=<VarBackward0>)"
      ]
     },
     "execution_count": 4,
     "metadata": {},
     "output_type": "execute_result"
    }
   ],
   "source": [
    "k.var()"
   ]
  },
  {
   "cell_type": "code",
   "execution_count": 5,
   "metadata": {},
   "outputs": [
    {
     "data": {
      "text/plain": [
       "tensor(0.3736, grad_fn=<VarBackward0>)"
      ]
     },
     "execution_count": 5,
     "metadata": {},
     "output_type": "execute_result"
    }
   ],
   "source": [
    "q.var()"
   ]
  },
  {
   "cell_type": "code",
   "execution_count": 6,
   "metadata": {},
   "outputs": [
    {
     "data": {
      "text/plain": [
       "tensor(1.6728, grad_fn=<VarBackward0>)"
      ]
     },
     "execution_count": 6,
     "metadata": {},
     "output_type": "execute_result"
    }
   ],
   "source": [
    "wei.var()"
   ]
  },
  {
   "cell_type": "code",
   "execution_count": 7,
   "metadata": {},
   "outputs": [],
   "source": [
    "k = key(x)\n",
    "q = query(x)\n",
    "wei = q @ k.transpose(-2, -1) * head_size**-0.5"
   ]
  },
  {
   "cell_type": "code",
   "execution_count": 8,
   "metadata": {},
   "outputs": [
    {
     "data": {
      "text/plain": [
       "tensor(0.3736, grad_fn=<VarBackward0>)"
      ]
     },
     "execution_count": 8,
     "metadata": {},
     "output_type": "execute_result"
    }
   ],
   "source": [
    "q.var()"
   ]
  },
  {
   "cell_type": "code",
   "execution_count": 9,
   "metadata": {},
   "outputs": [
    {
     "data": {
      "text/plain": [
       "tensor(0.1046, grad_fn=<VarBackward0>)"
      ]
     },
     "execution_count": 9,
     "metadata": {},
     "output_type": "execute_result"
    }
   ],
   "source": [
    "wei.var()"
   ]
  },
  {
   "cell_type": "code",
   "execution_count": 10,
   "metadata": {},
   "outputs": [
    {
     "data": {
      "text/plain": [
       "tensor([-0.1851,  0.4056, -0.4520,  0.1029,  0.0062,  0.1204, -0.0272,  0.2714],\n",
       "       grad_fn=<SelectBackward0>)"
      ]
     },
     "execution_count": 10,
     "metadata": {},
     "output_type": "execute_result"
    }
   ],
   "source": [
    "wei[0][0]"
   ]
  },
  {
   "attachments": {},
   "cell_type": "markdown",
   "metadata": {},
   "source": [
    "# Train model"
   ]
  },
  {
   "cell_type": "code",
   "execution_count": 11,
   "metadata": {},
   "outputs": [
    {
     "name": "stderr",
     "output_type": "stream",
     "text": [
      "train_loss: 2.0146 | val_loss: 1.9644: 100%|██████████| 10000/10000 [02:35<00:00, 64.42it/s]"
     ]
    },
    {
     "name": "stdout",
     "output_type": "stream",
     "text": [
      "Done\n"
     ]
    },
    {
     "name": "stderr",
     "output_type": "stream",
     "text": [
      "\n"
     ]
    }
   ],
   "source": [
    "import torch.nn as nn\n",
    "from data import FyodorDataset\n",
    "from model import BigramLanguageModel\n",
    "from train import get_batch\n",
    "from utils import get_files_from_folder, open_txt\n",
    "from tqdm import trange\n",
    "\n",
    "batch_size = 256\n",
    "block_size = 8\n",
    "max_iters = 10000\n",
    "eval_iters = 200\n",
    "eval_interval = 500\n",
    "learning_rate = 1e-3\n",
    "device = \"cuda\" if torch.cuda.is_available() else \"cpu\"\n",
    "n_embd = 24\n",
    "n_head = 6\n",
    "n_layer = 6\n",
    "dropout = 0.4\n",
    "\n",
    "books = get_files_from_folder(\"../books\")\n",
    "books_string = [open_txt(f\"../books/{i}\") for i in books]\n",
    "books = \"\\n\".join(books_string)\n",
    "\n",
    "train_dataset = FyodorDataset(books[: int(len(books) * 0.8)])\n",
    "val_dataset = FyodorDataset(books[int(len(books) * 0.8) :])\n",
    "\n",
    "model = BigramLanguageModel(\n",
    "    n_embd=n_embd,\n",
    "    block_size=block_size,\n",
    "    n_head=n_head,\n",
    "    n_layer=n_layer,\n",
    "    dropout=dropout,\n",
    "    device=device,\n",
    ")\n",
    "model = model.to(device)\n",
    "optimizer = torch.optim.AdamW(model.parameters(), lr=learning_rate)\n",
    "\n",
    "train_loss = float(\"inf\")\n",
    "val_loss = float(\"inf\")\n",
    "t = trange(max_iters)\n",
    "for steps in t:\n",
    "    # sample a batch of data\n",
    "    xb, yb = get_batch(\n",
    "        train_dataset.data, block_size=block_size, batch_size=batch_size, device=device\n",
    "    )\n",
    "\n",
    "    model.train()\n",
    "    # evaluate the loss\n",
    "    logits, loss = model(xb, yb)\n",
    "    optimizer.zero_grad(set_to_none=True)\n",
    "    loss.backward()\n",
    "    optimizer.step()\n",
    "\n",
    "    if steps % eval_interval == 0:\n",
    "        train_loss = loss.item()\n",
    "        # evalute on valditation set\n",
    "        model.eval()\n",
    "        val_loss = torch.zeros(eval_iters)\n",
    "        with torch.no_grad():\n",
    "            for i in range(eval_iters):\n",
    "                xb, yb = get_batch(\n",
    "                    val_dataset.data,\n",
    "                    block_size=block_size,\n",
    "                    batch_size=512,\n",
    "                    device=device,\n",
    "                )\n",
    "                logits, loss = model(xb, yb)\n",
    "                val_loss[i] = loss\n",
    "            val_loss = val_loss.mean()\n",
    "\n",
    "        t.set_description(f\"train_loss: {train_loss:.4f} | val_loss: {val_loss:.4f}\")\n",
    "\n",
    "print(\"Done\")"
   ]
  },
  {
   "cell_type": "code",
   "execution_count": 12,
   "metadata": {},
   "outputs": [
    {
     "name": "stdout",
     "output_type": "stream",
     "text": [
      " brught? As a fart talk upacuar, ou have hapack as seight Ge. ”\"\n",
      "\n",
      "\n",
      "\n",
      "Ixcitss, Myssitionowill. Hims of\n",
      "toemanises is a meary qualioush\n",
      "in susors the to\n",
      "tost he is, glan where suddfallood beand and arr?\"\n",
      "\n",
      "“Every toses, bet on repired an doorsed in hyouble her her and I the ponsinly awith to me ince red in\n",
      "a\n",
      "butn’t at hild erstipery was ganat in monce excathance hars, bunutelly monmitles, only al havarcigh to be hare” It’nd from nobsy, what\n",
      "just a all.\n",
      "\n",
      "It don’t the toued Yearf you oner my, of cancit\n"
     ]
    }
   ],
   "source": [
    "x = torch.zeros((1, 1), dtype=torch.long)\n",
    "x[0, 0] = 1\n",
    "x = x.to(device)\n",
    "print(model.decode(model.generate(idx=x, max_new_tokens=500)[0].tolist()))"
   ]
  },
  {
   "cell_type": "code",
   "execution_count": 13,
   "metadata": {},
   "outputs": [],
   "source": [
    "# torch.save(\n",
    "#     {\n",
    "#         \"state_dict\": model.state_dict(),\n",
    "#     },\n",
    "#     \"../model_store/attention.pt\",\n",
    "# )"
   ]
  },
  {
   "cell_type": "code",
   "execution_count": 14,
   "metadata": {},
   "outputs": [
    {
     "name": "stdout",
     "output_type": "stream",
     "text": [
      "BigramLanguageModel(\n",
      "  (token_embedding_table): Embedding(104, 24)\n",
      "  (position_embedding_table): Embedding(8, 24)\n",
      "  (blocks): Sequential(\n",
      "    (0): Block(\n",
      "      (sa): MultiHeadAttention(\n",
      "        (heads): ModuleList(\n",
      "          (0-5): 6 x Head(\n",
      "            (key): Linear(in_features=24, out_features=4, bias=False)\n",
      "            (query): Linear(in_features=24, out_features=4, bias=False)\n",
      "            (value): Linear(in_features=24, out_features=4, bias=False)\n",
      "            (dropout): Dropout(p=0.4, inplace=False)\n",
      "          )\n",
      "        )\n",
      "        (proj): Linear(in_features=24, out_features=24, bias=True)\n",
      "        (dropout): Dropout(p=0.4, inplace=False)\n",
      "      )\n",
      "      (ffwd): FeedForward(\n",
      "        (net): Sequential(\n",
      "          (0): Linear(in_features=24, out_features=96, bias=True)\n",
      "          (1): ReLU()\n",
      "          (2): Linear(in_features=96, out_features=24, bias=True)\n",
      "          (3): Dropout(p=0.4, inplace=False)\n",
      "        )\n",
      "      )\n",
      "      (ln1): LayerNorm((24,), eps=1e-05, elementwise_affine=True)\n",
      "      (ln2): LayerNorm((24,), eps=1e-05, elementwise_affine=True)\n",
      "    )\n",
      "    (1): Block(\n",
      "      (sa): MultiHeadAttention(\n",
      "        (heads): ModuleList(\n",
      "          (0-5): 6 x Head(\n",
      "            (key): Linear(in_features=24, out_features=4, bias=False)\n",
      "            (query): Linear(in_features=24, out_features=4, bias=False)\n",
      "            (value): Linear(in_features=24, out_features=4, bias=False)\n",
      "            (dropout): Dropout(p=0.4, inplace=False)\n",
      "          )\n",
      "        )\n",
      "        (proj): Linear(in_features=24, out_features=24, bias=True)\n",
      "        (dropout): Dropout(p=0.4, inplace=False)\n",
      "      )\n",
      "      (ffwd): FeedForward(\n",
      "        (net): Sequential(\n",
      "          (0): Linear(in_features=24, out_features=96, bias=True)\n",
      "          (1): ReLU()\n",
      "          (2): Linear(in_features=96, out_features=24, bias=True)\n",
      "          (3): Dropout(p=0.4, inplace=False)\n",
      "        )\n",
      "      )\n",
      "      (ln1): LayerNorm((24,), eps=1e-05, elementwise_affine=True)\n",
      "      (ln2): LayerNorm((24,), eps=1e-05, elementwise_affine=True)\n",
      "    )\n",
      "    (2): Block(\n",
      "      (sa): MultiHeadAttention(\n",
      "        (heads): ModuleList(\n",
      "          (0-5): 6 x Head(\n",
      "            (key): Linear(in_features=24, out_features=4, bias=False)\n",
      "            (query): Linear(in_features=24, out_features=4, bias=False)\n",
      "            (value): Linear(in_features=24, out_features=4, bias=False)\n",
      "            (dropout): Dropout(p=0.4, inplace=False)\n",
      "          )\n",
      "        )\n",
      "        (proj): Linear(in_features=24, out_features=24, bias=True)\n",
      "        (dropout): Dropout(p=0.4, inplace=False)\n",
      "      )\n",
      "      (ffwd): FeedForward(\n",
      "        (net): Sequential(\n",
      "          (0): Linear(in_features=24, out_features=96, bias=True)\n",
      "          (1): ReLU()\n",
      "          (2): Linear(in_features=96, out_features=24, bias=True)\n",
      "          (3): Dropout(p=0.4, inplace=False)\n",
      "        )\n",
      "      )\n",
      "      (ln1): LayerNorm((24,), eps=1e-05, elementwise_affine=True)\n",
      "      (ln2): LayerNorm((24,), eps=1e-05, elementwise_affine=True)\n",
      "    )\n",
      "    (3): Block(\n",
      "      (sa): MultiHeadAttention(\n",
      "        (heads): ModuleList(\n",
      "          (0-5): 6 x Head(\n",
      "            (key): Linear(in_features=24, out_features=4, bias=False)\n",
      "            (query): Linear(in_features=24, out_features=4, bias=False)\n",
      "            (value): Linear(in_features=24, out_features=4, bias=False)\n",
      "            (dropout): Dropout(p=0.4, inplace=False)\n",
      "          )\n",
      "        )\n",
      "        (proj): Linear(in_features=24, out_features=24, bias=True)\n",
      "        (dropout): Dropout(p=0.4, inplace=False)\n",
      "      )\n",
      "      (ffwd): FeedForward(\n",
      "        (net): Sequential(\n",
      "          (0): Linear(in_features=24, out_features=96, bias=True)\n",
      "          (1): ReLU()\n",
      "          (2): Linear(in_features=96, out_features=24, bias=True)\n",
      "          (3): Dropout(p=0.4, inplace=False)\n",
      "        )\n",
      "      )\n",
      "      (ln1): LayerNorm((24,), eps=1e-05, elementwise_affine=True)\n",
      "      (ln2): LayerNorm((24,), eps=1e-05, elementwise_affine=True)\n",
      "    )\n",
      "    (4): Block(\n",
      "      (sa): MultiHeadAttention(\n",
      "        (heads): ModuleList(\n",
      "          (0-5): 6 x Head(\n",
      "            (key): Linear(in_features=24, out_features=4, bias=False)\n",
      "            (query): Linear(in_features=24, out_features=4, bias=False)\n",
      "            (value): Linear(in_features=24, out_features=4, bias=False)\n",
      "            (dropout): Dropout(p=0.4, inplace=False)\n",
      "          )\n",
      "        )\n",
      "        (proj): Linear(in_features=24, out_features=24, bias=True)\n",
      "        (dropout): Dropout(p=0.4, inplace=False)\n",
      "      )\n",
      "      (ffwd): FeedForward(\n",
      "        (net): Sequential(\n",
      "          (0): Linear(in_features=24, out_features=96, bias=True)\n",
      "          (1): ReLU()\n",
      "          (2): Linear(in_features=96, out_features=24, bias=True)\n",
      "          (3): Dropout(p=0.4, inplace=False)\n",
      "        )\n",
      "      )\n",
      "      (ln1): LayerNorm((24,), eps=1e-05, elementwise_affine=True)\n",
      "      (ln2): LayerNorm((24,), eps=1e-05, elementwise_affine=True)\n",
      "    )\n",
      "    (5): Block(\n",
      "      (sa): MultiHeadAttention(\n",
      "        (heads): ModuleList(\n",
      "          (0-5): 6 x Head(\n",
      "            (key): Linear(in_features=24, out_features=4, bias=False)\n",
      "            (query): Linear(in_features=24, out_features=4, bias=False)\n",
      "            (value): Linear(in_features=24, out_features=4, bias=False)\n",
      "            (dropout): Dropout(p=0.4, inplace=False)\n",
      "          )\n",
      "        )\n",
      "        (proj): Linear(in_features=24, out_features=24, bias=True)\n",
      "        (dropout): Dropout(p=0.4, inplace=False)\n",
      "      )\n",
      "      (ffwd): FeedForward(\n",
      "        (net): Sequential(\n",
      "          (0): Linear(in_features=24, out_features=96, bias=True)\n",
      "          (1): ReLU()\n",
      "          (2): Linear(in_features=96, out_features=24, bias=True)\n",
      "          (3): Dropout(p=0.4, inplace=False)\n",
      "        )\n",
      "      )\n",
      "      (ln1): LayerNorm((24,), eps=1e-05, elementwise_affine=True)\n",
      "      (ln2): LayerNorm((24,), eps=1e-05, elementwise_affine=True)\n",
      "    )\n",
      "  )\n",
      "  (ln_f): LayerNorm((24,), eps=1e-05, elementwise_affine=True)\n",
      "  (lm_head): Linear(in_features=24, out_features=104, bias=True)\n",
      ")\n"
     ]
    }
   ],
   "source": [
    "print(model)"
   ]
  },
  {
   "cell_type": "code",
   "execution_count": null,
   "metadata": {},
   "outputs": [],
   "source": []
  },
  {
   "cell_type": "code",
   "execution_count": null,
   "metadata": {},
   "outputs": [],
   "source": []
  }
 ],
 "metadata": {
  "kernelspec": {
   "display_name": "backend-HRU81zog",
   "language": "python",
   "name": "python3"
  },
  "language_info": {
   "codemirror_mode": {
    "name": "ipython",
    "version": 3
   },
   "file_extension": ".py",
   "mimetype": "text/x-python",
   "name": "python",
   "nbconvert_exporter": "python",
   "pygments_lexer": "ipython3",
   "version": "3.10.10"
  },
  "orig_nbformat": 4
 },
 "nbformat": 4,
 "nbformat_minor": 2
}
