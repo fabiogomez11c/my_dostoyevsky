{
 "cells": [
  {
   "cell_type": "code",
   "execution_count": 1,
   "metadata": {},
   "outputs": [],
   "source": [
    "from src.utils import get_files_from_folder, open_txt\n",
    "from src.model import BigramLanguageModel\n",
    "import torch\n",
    "import torch.nn as nn\n",
    "from torch.nn import functional as F"
   ]
  },
  {
   "cell_type": "code",
   "execution_count": 2,
   "metadata": {},
   "outputs": [
    {
     "name": "stdout",
     "output_type": "stream",
     "text": [
      "NOTES FROM THE UNDERGROUND[*]\n",
      "A NOVEL\n",
      "\n",
      "\n",
      "* The author of the diary and the diary itself are, of course,\n",
      "imaginary. Nevertheless it is clear that such persons as the writer of\n",
      "these notes not only may, but positively must, exist in our society,\n",
      "when we consider the circumstances in the midst of which our society is\n",
      "formed. I have tried to expose to the view of the public more\n",
      "distinctly than is commonly done, one of the characters of the recent\n",
      "past. He is one of the representatives of a generatio\n"
     ]
    }
   ],
   "source": [
    "books = get_files_from_folder(\"books\")\n",
    "books_string = [open_txt(f\"books/{i}\") for i in books]\n",
    "print(books_string[0][:500])"
   ]
  },
  {
   "cell_type": "code",
   "execution_count": 3,
   "metadata": {},
   "outputs": [
    {
     "name": "stdout",
     "output_type": "stream",
     "text": [
      "All books have a lenght of: 7113352\n",
      "['\\n', ' ', '!', '\"', \"'\", '(', ')', '*', ',', '-', '.', '0', '1', '2', '3', '4', '5', '6', '7', '8', '9', ':', ';', '?', 'A', 'B', 'C', 'D', 'E', 'F', 'G', 'H', 'I', 'J', 'K', 'L', 'M', 'N', 'O', 'P', 'Q', 'R', 'S', 'T', 'U', 'V', 'W', 'X', 'Y', 'Z', '[', ']', '_', 'a', 'b', 'c', 'd', 'e', 'f', 'g', 'h', 'i', 'j', 'k', 'l', 'm', 'n', 'o', 'p', 'q', 'r', 's', 't', 'u', 'v', 'w', 'x', 'y', 'z', 'À', 'Æ', 'É', 'à', 'â', 'ä', 'æ', 'ç', 'è', 'é', 'ê', 'ë', 'î', 'ï', 'ô', 'ö', 'ü', 'Œ', 'œ', '‐', '—', '‘', '’', '“', '”']\n",
      "The vocabulary has a lenght of: 104\n"
     ]
    }
   ],
   "source": [
    "all_books = \"\\n\".join(books_string)\n",
    "print(f\"All books have a lenght of: {len(all_books)}\")\n",
    "\n",
    "vocab = sorted(set(all_books))\n",
    "vocab_size = len(vocab)\n",
    "print(vocab)\n",
    "print(f\"The vocabulary has a lenght of: {len(vocab)}\")"
   ]
  },
  {
   "cell_type": "code",
   "execution_count": 4,
   "metadata": {},
   "outputs": [
    {
     "name": "stdout",
     "output_type": "stream",
     "text": [
      "[27, 67, 71, 72, 67, 77, 57, 74, 71, 63, 77]\n",
      "Dostoyevsky\n"
     ]
    }
   ],
   "source": [
    "stoi = {c: i for i, c in enumerate(vocab)}\n",
    "itos = {i: c for i, c in enumerate(vocab)}\n",
    "encode = lambda x: [stoi[c] for c in x]\n",
    "decode = lambda x: \"\".join([itos[c] for c in x])\n",
    "\n",
    "print(encode(\"Dostoyevsky\"))\n",
    "print(decode(encode(\"Dostoyevsky\")))"
   ]
  },
  {
   "cell_type": "code",
   "execution_count": 5,
   "metadata": {},
   "outputs": [
    {
     "name": "stdout",
     "output_type": "stream",
     "text": [
      "torch.Size([7113352]) torch.int64\n",
      "tensor([37, 38, 43, 28, 42,  1, 29, 41, 38, 36])\n"
     ]
    }
   ],
   "source": [
    "data = torch.tensor(encode(all_books), dtype=torch.long)\n",
    "print(data.shape, data.dtype)\n",
    "print(data[:10])"
   ]
  },
  {
   "cell_type": "code",
   "execution_count": 6,
   "metadata": {},
   "outputs": [],
   "source": [
    "train_size = int(len(data) * 0.9)\n",
    "train_data = data[:train_size]\n",
    "val_data = data[train_size:]"
   ]
  },
  {
   "cell_type": "code",
   "execution_count": 7,
   "metadata": {},
   "outputs": [
    {
     "name": "stdout",
     "output_type": "stream",
     "text": [
      "inputs:\n",
      "torch.Size([4, 8])\n",
      "tensor([[43, 60, 57, 70, 57,  1, 61, 71],\n",
      "        [60, 57,  1, 72, 67, 64, 56,  1],\n",
      "        [60, 53, 72,  1, 55, 67, 66, 59],\n",
      "        [71, 61, 71, 72, 57, 56,  8,  1]])\n",
      "targets:\n",
      "torch.Size([4, 8])\n",
      "tensor([[60, 57, 70, 57,  1, 61, 71,  1],\n",
      "        [57,  1, 72, 67, 64, 56,  1, 60],\n",
      "        [53, 72,  1, 55, 67, 66, 59, 70],\n",
      "        [61, 71, 72, 57, 56,  8,  1, 54]])\n",
      "----\n",
      "when input is [43] the target: 60\n",
      "when input is [43, 60] the target: 57\n",
      "when input is [43, 60, 57] the target: 70\n",
      "when input is [43, 60, 57, 70] the target: 57\n",
      "when input is [43, 60, 57, 70, 57] the target: 1\n",
      "when input is [43, 60, 57, 70, 57, 1] the target: 61\n",
      "when input is [43, 60, 57, 70, 57, 1, 61] the target: 71\n",
      "when input is [43, 60, 57, 70, 57, 1, 61, 71] the target: 1\n",
      "when input is [60] the target: 57\n",
      "when input is [60, 57] the target: 1\n",
      "when input is [60, 57, 1] the target: 72\n",
      "when input is [60, 57, 1, 72] the target: 67\n",
      "when input is [60, 57, 1, 72, 67] the target: 64\n",
      "when input is [60, 57, 1, 72, 67, 64] the target: 56\n",
      "when input is [60, 57, 1, 72, 67, 64, 56] the target: 1\n",
      "when input is [60, 57, 1, 72, 67, 64, 56, 1] the target: 60\n",
      "when input is [60] the target: 53\n",
      "when input is [60, 53] the target: 72\n",
      "when input is [60, 53, 72] the target: 1\n",
      "when input is [60, 53, 72, 1] the target: 55\n",
      "when input is [60, 53, 72, 1, 55] the target: 67\n",
      "when input is [60, 53, 72, 1, 55, 67] the target: 66\n",
      "when input is [60, 53, 72, 1, 55, 67, 66] the target: 59\n",
      "when input is [60, 53, 72, 1, 55, 67, 66, 59] the target: 70\n",
      "when input is [71] the target: 61\n",
      "when input is [71, 61] the target: 71\n",
      "when input is [71, 61, 71] the target: 72\n",
      "when input is [71, 61, 71, 72] the target: 57\n",
      "when input is [71, 61, 71, 72, 57] the target: 56\n",
      "when input is [71, 61, 71, 72, 57, 56] the target: 8\n",
      "when input is [71, 61, 71, 72, 57, 56, 8] the target: 1\n",
      "when input is [71, 61, 71, 72, 57, 56, 8, 1] the target: 54\n"
     ]
    }
   ],
   "source": [
    "batch_size = 4\n",
    "block_size = 8\n",
    "\n",
    "\n",
    "def get_batch(split):\n",
    "    data = train_data if split == \"train\" else val_data\n",
    "    ix = torch.randint(len(data) - block_size, (batch_size,))\n",
    "    x = torch.stack([data[i : i + block_size] for i in ix])\n",
    "    y = torch.stack([data[i + 1 : i + block_size + 1] for i in ix])\n",
    "    return x, y\n",
    "\n",
    "\n",
    "xb, yb = get_batch(\"train\")\n",
    "print(\"inputs:\")\n",
    "print(xb.shape)\n",
    "print(xb)\n",
    "print(\"targets:\")\n",
    "print(yb.shape)\n",
    "print(yb)\n",
    "\n",
    "print(\"----\")\n",
    "\n",
    "for b in range(batch_size):  # batch dimension\n",
    "    for t in range(block_size):  # time dimension\n",
    "        context = xb[b, : t + 1]\n",
    "        target = yb[b, t]\n",
    "        print(f\"when input is {context.tolist()} the target: {target}\")"
   ]
  },
  {
   "cell_type": "code",
   "execution_count": 8,
   "metadata": {},
   "outputs": [
    {
     "name": "stdout",
     "output_type": "stream",
     "text": [
      "torch.Size([32, 104])\n",
      "tensor(5.4505, grad_fn=<NllLossBackward0>)\n",
      "\n",
      "0UQ6Is]éÀxç5Lcæ8'v5“8?F\n",
      "îKFp_Ébhaî]nn;\"æüÆô8R‐eé;ê7Æék_HtÀPhuYŒüz‘HNö ‘Œ5”èX\n",
      "(S3G‐N’z;ÀëhXxp—8'.'bMO\n"
     ]
    }
   ],
   "source": [
    "m = BigramLanguageModel(vocab_size)\n",
    "logits, loss = m(xb, yb)\n",
    "print(logits.shape)\n",
    "print(loss)\n",
    "\n",
    "print(\n",
    "    decode(\n",
    "        m.generate(idx=torch.zeros((1, 1), dtype=torch.long), max_new_tokens=100)[\n",
    "            0\n",
    "        ].tolist()\n",
    "    )\n",
    ")"
   ]
  },
  {
   "cell_type": "code",
   "execution_count": 9,
   "metadata": {},
   "outputs": [],
   "source": [
    "optimizer = torch.optim.AdamW(m.parameters(), lr=1e-3)"
   ]
  },
  {
   "cell_type": "code",
   "execution_count": 10,
   "metadata": {},
   "outputs": [
    {
     "name": "stdout",
     "output_type": "stream",
     "text": [
      "Loss for 0 : 5.316340923309326\n",
      "Loss for 1000 : 4.188947677612305\n",
      "Loss for 2000 : 3.433223247528076\n",
      "Loss for 3000 : 2.8472392559051514\n",
      "Loss for 4000 : 2.7882323265075684\n",
      "Loss for 5000 : 2.693650484085083\n",
      "Loss for 6000 : 2.564865827560425\n",
      "Loss for 7000 : 2.62357759475708\n",
      "Loss for 8000 : 2.478428363800049\n",
      "Loss for 9000 : 2.5481741428375244\n",
      "Loss for 9999 : 2.480616807937622\n"
     ]
    }
   ],
   "source": [
    "batch_size = 32\n",
    "for steps in range(10000):  # increase number of steps for good results...\n",
    "    # sample a batch of data\n",
    "    xb, yb = get_batch(\"train\")\n",
    "\n",
    "    # evaluate the loss\n",
    "    logits, loss = m(xb, yb)\n",
    "    optimizer.zero_grad(set_to_none=True)\n",
    "    loss.backward()\n",
    "    optimizer.step()\n",
    "\n",
    "    if steps % 1000 == 0:\n",
    "        print(f\"Loss for {steps} : {loss.item()}\")\n",
    "print(f\"Loss for {steps} : {loss.item()}\")"
   ]
  },
  {
   "cell_type": "code",
   "execution_count": 12,
   "metadata": {},
   "outputs": [
    {
     "name": "stdout",
     "output_type": "stream",
     "text": [
      "\n",
      "“I hed Pasrye\n",
      "thapef.. cumeit in m! wanlvis we\n",
      "w fild Zö?’st, Ithe pexct wherontha. mu pocuakerothoo\n"
     ]
    }
   ],
   "source": [
    "print(\n",
    "    decode(\n",
    "        m.generate(idx=torch.zeros((1, 1), dtype=torch.long), max_new_tokens=100)[\n",
    "            0\n",
    "        ].tolist()\n",
    "    )\n",
    ")"
   ]
  }
 ],
 "metadata": {
  "kernelspec": {
   "display_name": "backend-HRU81zog",
   "language": "python",
   "name": "python3"
  },
  "language_info": {
   "codemirror_mode": {
    "name": "ipython",
    "version": 3
   },
   "file_extension": ".py",
   "mimetype": "text/x-python",
   "name": "python",
   "nbconvert_exporter": "python",
   "pygments_lexer": "ipython3",
   "version": "3.10.10"
  },
  "orig_nbformat": 4
 },
 "nbformat": 4,
 "nbformat_minor": 2
}
